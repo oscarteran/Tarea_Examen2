{
 "cells": [
  {
   "cell_type": "code",
   "execution_count": 5,
   "metadata": {},
   "outputs": [],
   "source": [
    "import numpy as np"
   ]
  },
  {
   "cell_type": "code",
   "execution_count": 17,
   "metadata": {},
   "outputs": [
    {
     "data": {
      "text/plain": [
       "[0.001999,\n",
       " 0.003994003999,\n",
       " 0.007972055930055972,\n",
       " 0.015880558184360002,\n",
       " 0.03150892424047316]"
      ]
     },
     "execution_count": 17,
     "metadata": {},
     "output_type": "execute_result"
    }
   ],
   "source": [
    "def forwardEuler (y , yo , ht , lam ):\n",
    "    A = 1 + ht*lam\n",
    "    An = []\n",
    "    An.append(A*y[0] - ht*lam*(y[0]**2))\n",
    "    for i in range(len(y)-1):\n",
    "        An.append(A*An[i] - ht*lam*(An[i]**2))\n",
    "    return An\n",
    "\n",
    "Nt = 4\n",
    "yf = np.zeros(Nt +1)\n",
    "yf[0] = 0.001\n",
    "An = forwardEuler(yf , 0.01, 0.1 , 10 )\n",
    "An"
   ]
  },
  {
   "cell_type": "code",
   "execution_count": 13,
   "metadata": {},
   "outputs": [],
   "source": [
    "# Numero de pasos de tiempo\n",
    "Nt = 10\n",
    "# Tiempo final\n",
    "Tmax = 1\n",
    "# Llamado a la funcion para crear tamaño de paso\n",
    "ht = Tmax/Nt\n",
    "# Condiciones iniciales\n",
    "lam = 10\n",
    "y0 = 0.01\n",
    "# Vector de tiempo\n",
    "t = np.linspace(0 , Tmax , Nt +1)\n",
    "yf = np.zeros(Nt +1)\n",
    "# Ajuste de las condiciones iniciales\n",
    "yf[0] = y0\n",
    "# Llamado a funciones para la aproximación\n",
    "An = forwardEuler(yf , y0, ht , lam )"
   ]
  },
  {
   "cell_type": "code",
   "execution_count": 14,
   "metadata": {},
   "outputs": [
    {
     "data": {
      "text/plain": [
       "[0.0001,\n",
       " 1e-08,\n",
       " 1.0000000000000001e-16,\n",
       " 1.0000000000000002e-32,\n",
       " 1.0000000000000003e-64,\n",
       " 1.0000000000000006e-128,\n",
       " 1.0000000000000012e-256,\n",
       " 0.0,\n",
       " 0.0,\n",
       " 0.0,\n",
       " 0.0]"
      ]
     },
     "execution_count": 14,
     "metadata": {},
     "output_type": "execute_result"
    }
   ],
   "source": [
    "An"
   ]
  },
  {
   "cell_type": "code",
   "execution_count": null,
   "metadata": {},
   "outputs": [],
   "source": []
  }
 ],
 "metadata": {
  "kernelspec": {
   "display_name": "Python 3",
   "language": "python",
   "name": "python3"
  },
  "language_info": {
   "codemirror_mode": {
    "name": "ipython",
    "version": 3
   },
   "file_extension": ".py",
   "mimetype": "text/x-python",
   "name": "python",
   "nbconvert_exporter": "python",
   "pygments_lexer": "ipython3",
   "version": "3.8.5"
  }
 },
 "nbformat": 4,
 "nbformat_minor": 4
}
